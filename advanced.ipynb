{
 "cells": [
  {
   "cell_type": "code",
   "execution_count": null,
   "metadata": {},
   "outputs": [],
   "source": [
    "import cv2 as cv\n",
    "import numpy as np \n",
    "import matplotlib.pyplot as plt"
   ]
  },
  {
   "cell_type": "markdown",
   "metadata": {},
   "source": [
    "# COLOR FILTERING"
   ]
  },
  {
   "cell_type": "code",
   "execution_count": null,
   "metadata": {},
   "outputs": [],
   "source": [
    "item = cv.VideoCapture(0)\n",
    "\n",
    "while(True):\n",
    "    _, frame = item.read()\n",
    "    hsv = cv.cvtColor(frame, cv.COLOR_BGR2HSV)\n",
    "    \n",
    "    lower_blue = np.array([30,150,60])\n",
    "    upper_blue = np.array([255,255,180])\n",
    "    \n",
    "    mask = cv.inRange(hsv, lower_blue, upper_blue)\n",
    "    result = cv.bitwise_and(frame,frame, mask= mask)\n",
    "\n",
    "    cv.imshow('frame',frame)\n",
    "    cv.imshow('mask',mask)\n",
    "    cv.imshow('result',result)\n",
    "    \n",
    "    k = cv.waitKey(5) & 0xFF\n",
    "    if k == 27:\n",
    "        break\n",
    "\n",
    "cv.destroyAllWindows()\n",
    "item.release()"
   ]
  },
  {
   "cell_type": "markdown",
   "metadata": {},
   "source": [
    "### SMOOTHING AND BLURING TECHNIQUES"
   ]
  },
  {
   "cell_type": "markdown",
   "metadata": {},
   "source": [
    "### 2D-Convolution"
   ]
  },
  {
   "cell_type": "code",
   "execution_count": null,
   "metadata": {},
   "outputs": [],
   "source": [
    "item = cv.VideoCapture(0)\n",
    "\n",
    "while(True):\n",
    "    _, frame = item.read()\n",
    "    hsv = cv.cvtColor(frame, cv.COLOR_BGR2HSV)\n",
    "    \n",
    "    lower_blue = np.array([30,150,60])\n",
    "    upper_blue = np.array([255,255,180])\n",
    "    \n",
    "    mask = cv.inRange(hsv, lower_blue, upper_blue)\n",
    "    result = cv.bitwise_and(frame,frame, mask= mask)\n",
    "\n",
    "    kernel = np.ones((15,15),np.float32)/255\n",
    "    smoothed = cv.filter2D(result,-1,kernel)\n",
    "\n",
    "    cv.imshow('Original',frame)\n",
    "    cv.imshow('Smoothed',smoothed)\n",
    "    \n",
    "    k = cv.waitKey(5) & 0xFF\n",
    "    if k == 27:\n",
    "        break\n",
    "\n",
    "cv.destroyAllWindows()\n",
    "cap.release()"
   ]
  },
  {
   "cell_type": "markdown",
   "metadata": {},
   "source": [
    "### Gaussian-Blur"
   ]
  },
  {
   "cell_type": "code",
   "execution_count": null,
   "metadata": {},
   "outputs": [],
   "source": [
    "g_blur = cv.GaussianBlur(result,(15,15),0)\n",
    "cv.imshow('Gaussian Blurring',g_blur)"
   ]
  },
  {
   "cell_type": "markdown",
   "metadata": {},
   "source": [
    "### Median-Blur"
   ]
  },
  {
   "cell_type": "code",
   "execution_count": null,
   "metadata": {},
   "outputs": [],
   "source": [
    "median = cv.medianBlur(result,5)\n",
    "cv.imshow('Median-Blur', median)"
   ]
  },
  {
   "cell_type": "markdown",
   "metadata": {},
   "source": [
    "### Bilateral- Blur"
   ]
  },
  {
   "cell_type": "code",
   "execution_count": null,
   "metadata": {},
   "outputs": [],
   "source": [
    "bi_blur = cv.bilateralFilter(result,9,75,75)\n",
    "cv.imshow('Bilateral-blur', bi_blur)"
   ]
  },
  {
   "cell_type": "markdown",
   "metadata": {},
   "source": [
    "# MORPHOLOGICAL METHODS\n",
    "## Erosion and Dilution"
   ]
  },
  {
   "cell_type": "code",
   "execution_count": null,
   "metadata": {},
   "outputs": [],
   "source": [
    "sharpner = cv.VideoCapture(0)\n",
    "\n",
    "while(1):\n",
    "\n",
    "    _, frame = sharpner.read()\n",
    "    hsv = cv.cvtColor(frame, cv.COLOR_BGR2HSV)\n",
    "    \n",
    "    lower_red = np.array([30,150,50])\n",
    "    upper_red = np.array([255,255,180])\n",
    "    \n",
    "    mask = cv.inRange(hsv, lower_red, upper_red)\n",
    "    result = cv.bitwise_and(frame,frame, mask= mask)\n",
    "\n",
    "    kernel = np.ones((5,5),np.uint8)\n",
    "    erosion = cv.erode(mask,kernel,iterations = 1)\n",
    "    dilation = cv.dilate(mask,kernel,iterations = 1)\n",
    "\n",
    "    cv.imshow('Original',frame)\n",
    "    cv.imshow('Mask',mask)\n",
    "    cv.imshow('Erosion',erosion)\n",
    "    cv.imshow('Dilation',dilation)\n",
    "\n",
    "    k = cv.waitKey(5) & 0xFF\n",
    "    if k == 27:\n",
    "        break\n",
    "\n",
    "cv.destroyAllWindows()\n",
    "sharpner.release()"
   ]
  },
  {
   "cell_type": "markdown",
   "metadata": {},
   "source": [
    "### Opening and Closing"
   ]
  },
  {
   "cell_type": "code",
   "execution_count": null,
   "metadata": {},
   "outputs": [],
   "source": [
    "opening = cv.morphologyEx(mask, cv.MORPH_OPEN, kernel)\n",
    "closing = cv.morphologyEx(mask, cv.MORPH_CLOSE, kernel)\n",
    "\n",
    "cv.imshow('Opening',opening)\n",
    "cv.imshow('Closing',closing)"
   ]
  },
  {
   "cell_type": "markdown",
   "metadata": {},
   "source": [
    "# Edges and Gradients"
   ]
  },
  {
   "cell_type": "code",
   "execution_count": null,
   "metadata": {},
   "outputs": [],
   "source": [
    "pic = cv.VideoCapture(0)\n",
    "\n",
    "while(1):\n",
    "\n",
    "    _, frame = pic.read()\n",
    "     \n",
    "    laplacian = cv.Laplacian(frame,cv.CV_64F)\n",
    "    sobelx = cv.Sobel(frame,cv.CV_64F,1,0,ksize=5)\n",
    "    sobely = cv.Sobel(frame,cv.CV_64F,0,1,ksize=5)\n",
    "\n",
    "    #cv.imshow('Original',frame)\n",
    "    cv.imshow('laplacian',laplacian)\n",
    "    cv.imshow('sobelx',sobelx)\n",
    "    cv.imshow('sobely',sobely)\n",
    "\n",
    "    k = cv.waitKey(5) & 0xFF\n",
    "    if k == 27:\n",
    "        break\n",
    "\n",
    "cv.destroyAllWindows()\n",
    "pic.release()"
   ]
  },
  {
   "cell_type": "markdown",
   "metadata": {},
   "source": [
    "# Canny Edge Detection - The Best Way of Edge Detection"
   ]
  },
  {
   "cell_type": "code",
   "execution_count": null,
   "metadata": {},
   "outputs": [],
   "source": [
    "scape = cv.VideoCapture(0)\n",
    "\n",
    "while(1):\n",
    "\n",
    "    _, frame = scape.read()\n",
    "    \n",
    "    cv.imshow('Original',frame)\n",
    "    edges = cv.Canny(frame,100,100)\n",
    "    cv.imshow('Edges',edges)\n",
    "\n",
    "    k = cv.waitKey(5) & 0xFF\n",
    "    if k == 27:\n",
    "        break\n",
    "\n",
    "cv.destroyAllWindows()\n",
    "scape.release()"
   ]
  },
  {
   "cell_type": "markdown",
   "metadata": {},
   "source": [
    "# TEMPLET MATCHING"
   ]
  },
  {
   "cell_type": "code",
   "execution_count": 28,
   "metadata": {},
   "outputs": [],
   "source": [
    "img_bgr = cv.imread('virat.png')\n",
    "img_gray = cv.cvtColor(img_bgr, cv.COLOR_BGR2GRAY)\n",
    "template = cv.imread('face.png',0)\n",
    "w, h = template.shape[::-1]\n",
    "\n",
    "#print(template.shape)\n",
    "\n",
    "res = cv.matchTemplate(img_gray,template,cv.TM_CCOEFF_NORMED)\n",
    "threshold = 0.7\n",
    "loc = np.where( res >= threshold)\n",
    "for pt in zip(*loc[::-1]):\n",
    "    #print(pt)\n",
    "    cv.rectangle(img_bgr, pt, (pt[0] + w, pt[1] + h), (255,0,255), 2)\n",
    "\n",
    "cv.imshow('Detected',img_bgr)\n",
    "cv.waitKey(0)\n",
    "cv.destroyAllWindows()"
   ]
  },
  {
   "cell_type": "markdown",
   "metadata": {},
   "source": [
    "# FEATURES"
   ]
  },
  {
   "cell_type": "code",
   "execution_count": 54,
   "metadata": {},
   "outputs": [],
   "source": [
    "img = cv.imread('Shapes.png')\n",
    "gray = cv.cvtColor(img, cv.COLOR_BGR2GRAY)\n",
    "gray = np.float32(gray)\n",
    "corners = cv.goodFeaturesToTrack(gray, 45, 0.001, 10)\n",
    "corners = np.int0(corners) \n",
    "\n",
    "for corner in corners:\n",
    "    x,y = corner.ravel()\n",
    "    cv.circle(img, (x,y), 3, (35,140,255), -1)\n",
    "\n",
    "cv.imshow('CORNERS', img)\n",
    "cv.waitKey(0)\n",
    "cv.destroyAllWindows()"
   ]
  },
  {
   "cell_type": "markdown",
   "metadata": {},
   "source": [
    "# FEATURE MATCHING"
   ]
  },
  {
   "cell_type": "code",
   "execution_count": 57,
   "metadata": {},
   "outputs": [],
   "source": [
    "\n",
    "img1 = cv.imread('thingsmix.png',0)\n",
    "img2 = cv.imread('pillow_care.png',0)\n",
    "######\n",
    "\n",
    "orb = cv.ORB_create()\n",
    "\n",
    "kp1, des1 = orb.detectAndCompute(img1,None)\n",
    "kp2, des2 = orb.detectAndCompute(img2,None)\n",
    "\n",
    "bf = cv.BFMatcher(cv.NORM_HAMMING, crossCheck=True)\n",
    "\n",
    "matches = bf.match(des1,des2)\n",
    "matches = sorted(matches, key = lambda x:x.distance)\n",
    "\n",
    "img3 = cv.drawMatches(img1,kp1,img2,kp2,matches[:10],None, flags=2)\n",
    "cv.imshow('Matching', img3)\n",
    "cv.waitKey(0)\n",
    "cv.destroyAllWindows()"
   ]
  },
  {
   "cell_type": "markdown",
   "metadata": {},
   "source": [
    "# MOTION DETECTION"
   ]
  },
  {
   "cell_type": "code",
   "execution_count": null,
   "metadata": {},
   "outputs": [],
   "source": [
    "\n",
    "viedo = cv.VideoCapture('competition_1_1_xvid.avi')\n",
    "motion_det = cv.createBackgroundSubtractorMOG2()\n",
    "\n",
    "while(1):\n",
    "    ret, frame = viedo.read()\n",
    "\n",
    "    mask = motion_det.apply(frame)\n",
    " \n",
    "    #cv.imshow('fore_ground_mask',frame)\n",
    "    cv.imshow('frame',mask)\n",
    "\n",
    "    \n",
    "    k = cv.waitKey(30) & 0xff\n",
    "    if k == 27:\n",
    "        break\n",
    "    \n",
    "\n",
    "viedo.release()\n",
    "cv.destroyAllWindows()"
   ]
  }
 ],
 "metadata": {
  "kernelspec": {
   "display_name": "Python 3",
   "language": "python",
   "name": "python3"
  },
  "language_info": {
   "codemirror_mode": {
    "name": "ipython",
    "version": 3
   },
   "file_extension": ".py",
   "mimetype": "text/x-python",
   "name": "python",
   "nbconvert_exporter": "python",
   "pygments_lexer": "ipython3",
   "version": "3.6.9"
  }
 },
 "nbformat": 4,
 "nbformat_minor": 4
}
