{
 "cells": [
  {
   "cell_type": "code",
   "execution_count": 64,
   "metadata": {},
   "outputs": [],
   "source": [
    "import numpy as np"
   ]
  },
  {
   "cell_type": "code",
   "execution_count": 65,
   "metadata": {},
   "outputs": [],
   "source": [
    "import cv2 as cv"
   ]
  },
  {
   "cell_type": "markdown",
   "metadata": {},
   "source": [
    "# BASICS"
   ]
  },
  {
   "cell_type": "markdown",
   "metadata": {},
   "source": [
    "## CONVERTING A PICTURE TO A GRAYSCALE"
   ]
  },
  {
   "cell_type": "code",
   "execution_count": 66,
   "metadata": {},
   "outputs": [],
   "source": [
    "image = cv.imread('logo1.jpg')\n",
    "image_BW = cv.cvtColor(image, cv.COLOR_BGR2GRAY)\n",
    "cv.imshow('Avengers', image)\n",
    "cv.imshow('Avengers_BW', image_BW)\n",
    "cv.waitKey(0)\n",
    "cv.destroyAllWindows()"
   ]
  },
  {
   "cell_type": "markdown",
   "metadata": {},
   "source": [
    "# DRAWING ON AN IMAGE"
   ]
  },
  {
   "cell_type": "markdown",
   "metadata": {},
   "source": [
    "#### TO OBSERVE EACH SHAPE SEPARATLY RUN THE CODE CELL THAT CONTAINS IMAGE EVERY TIME YOU RUN THE NEXT CODE CELL"
   ]
  },
  {
   "cell_type": "code",
   "execution_count": 67,
   "metadata": {},
   "outputs": [],
   "source": [
    "img = cv.imread('OIP.jpg',cv.IMREAD_COLOR)"
   ]
  },
  {
   "cell_type": "code",
   "execution_count": 68,
   "metadata": {},
   "outputs": [],
   "source": [
    "cv.line(img,(0,0),(150,150),(0,0,0),15)             #(15) = linewidth\n",
    "cv.imshow('LINE',img)\n",
    "cv.waitKey(0)\n",
    "cv.destroyAllWindows()"
   ]
  },
  {
   "cell_type": "code",
   "execution_count": 69,
   "metadata": {},
   "outputs": [],
   "source": [
    "cv.rectangle(img,(15,25),(200,150),(0,0,255),15)\n",
    "cv.imshow('RECTANGLE',img)\n",
    "cv.waitKey(0)\n",
    "cv.destroyAllWindows()"
   ]
  },
  {
   "cell_type": "code",
   "execution_count": 70,
   "metadata": {},
   "outputs": [],
   "source": [
    "cv.circle(img,(100,63), 55, (100,200,255), -1)      #(-1) = fill in the shape\n",
    "cv.imshow('CIRCLE',img)\n",
    "cv.waitKey(0)\n",
    "cv.destroyAllWindows()"
   ]
  },
  {
   "cell_type": "code",
   "execution_count": 71,
   "metadata": {},
   "outputs": [],
   "source": [
    "pts = np.array([[10,5],[20,30],[70,20],[50,10]], np.int32)\n",
    "cv.polylines(img, [pts], True, (0,255,255), 3)\n",
    "cv.imshow('CIRCLE',img)\n",
    "cv.waitKey(0)\n",
    "cv.destroyAllWindows()"
   ]
  },
  {
   "cell_type": "markdown",
   "metadata": {},
   "source": [
    "# IMAGE BLENDING"
   ]
  },
  {
   "cell_type": "markdown",
   "metadata": {},
   "source": [
    "#### ADDING TWO IMAGES"
   ]
  },
  {
   "cell_type": "code",
   "execution_count": 72,
   "metadata": {},
   "outputs": [],
   "source": [
    "image1 = cv.imread('BAT2.png.jpeg', cv.IMREAD_COLOR)\n",
    "image2 = cv.imread('Titletest.png', cv.IMREAD_COLOR)\n",
    "Add = cv.add(image1, image2)       \n",
    "cv.imshow('Add', Add)\n",
    "cv.waitKey(0)\n",
    "cv.destroyAllWindows()"
   ]
  },
  {
   "cell_type": "markdown",
   "metadata": {},
   "source": [
    "#### WEIGHTED ADDITION"
   ]
  },
  {
   "cell_type": "code",
   "execution_count": 73,
   "metadata": {},
   "outputs": [],
   "source": [
    "blend = cv.addWeighted(image1, 0.6, image2, 0.3, 0.1)\n",
    "cv.imshow('Weighted',blend)\n",
    "cv.waitKey(0)\n",
    "cv.destroyAllWindows()"
   ]
  },
  {
   "cell_type": "markdown",
   "metadata": {},
   "source": [
    "# OPERATIONS"
   ]
  },
  {
   "cell_type": "code",
   "execution_count": 74,
   "metadata": {},
   "outputs": [],
   "source": [
    "img1 = cv.imread('graph.PNG')\n",
    "img2 = cv.imread('pylogo.PNG')"
   ]
  },
  {
   "cell_type": "markdown",
   "metadata": {},
   "source": [
    "#### IMAGE (2) ON IMAGE (1)"
   ]
  },
  {
   "cell_type": "code",
   "execution_count": 75,
   "metadata": {},
   "outputs": [],
   "source": [
    "rows, colomns, channels = img2.shape\n",
    "roi = img1[0:rows, 0:colomns]\n",
    "\n",
    "img2gray = cv.cvtColor(img2, cv.COLOR_BGR2GRAY)\n",
    "\n",
    "ret, mask = cv.threshold(img2gray, 220, 255, cv.THRESH_BINARY_INV)\n",
    "mask_inv = cv.bitwise_not(mask)\n",
    "img1_bg = cv.bitwise_and(roi, roi, mask=mask_inv)\n",
    "img2_fg = cv.bitwise_and(img2, img2, mask=mask)\n",
    "\n",
    "designed = cv.add(img1_bg, img2_fg)\n",
    "img1[0:rows, 0:colomns] = designed\n",
    "\n",
    "cv.imshow('Combined', img1)\n",
    "cv.waitKey(0)\n",
    "cv.destroyAllWindows()"
   ]
  },
  {
   "cell_type": "markdown",
   "metadata": {},
   "source": [
    "# THRESHOLDING"
   ]
  },
  {
   "cell_type": "code",
   "execution_count": 76,
   "metadata": {},
   "outputs": [],
   "source": [
    "img = cv.imread('BOOKPAGE.PNG')\n",
    "retval, threshold = cv.threshold(img, 12, 255, cv.THRESH_BINARY)\n",
    "#cv.imshow('ORIGINAL',img)\n",
    "cv.imshow('threshold-color',threshold)\n",
    "cv.waitKey(0)\n",
    "cv.destroyAllWindows()"
   ]
  },
  {
   "cell_type": "code",
   "execution_count": 77,
   "metadata": {},
   "outputs": [],
   "source": [
    "grayscaled = cv.cvtColor(img, cv.COLOR_BGR2GRAY)\n",
    "retval, threshold = cv.threshold(grayscaled, 10, 255, cv.THRESH_BINARY)\n",
    "#cv.imshow('original',img)\n",
    "cv.imshow('threshold-B&W',threshold)\n",
    "cv.waitKey(0)\n",
    "cv.destroyAllWindows()"
   ]
  },
  {
   "cell_type": "code",
   "execution_count": 78,
   "metadata": {},
   "outputs": [],
   "source": [
    "adaptive = cv.adaptiveThreshold(grayscaled, 255, cv.ADAPTIVE_THRESH_GAUSSIAN_C, cv.THRESH_BINARY, 115, 1)\n",
    "#cv.imshow('original',img)\n",
    "cv.imshow('Adaptive threshold',adaptive)\n",
    "cv.waitKey(0)\n",
    "cv.destroyAllWindows()"
   ]
  }
 ],
 "metadata": {
  "kernelspec": {
   "display_name": "Python 3",
   "language": "python",
   "name": "python3"
  },
  "language_info": {
   "codemirror_mode": {
    "name": "ipython",
    "version": 3
   },
   "file_extension": ".py",
   "mimetype": "text/x-python",
   "name": "python",
   "nbconvert_exporter": "python",
   "pygments_lexer": "ipython3",
   "version": "3.7.4"
  }
 },
 "nbformat": 4,
 "nbformat_minor": 4
}
